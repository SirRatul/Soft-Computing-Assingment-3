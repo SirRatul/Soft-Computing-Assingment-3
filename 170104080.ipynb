{
  "nbformat": 4,
  "nbformat_minor": 0,
  "metadata": {
    "colab": {
      "name": "170104080.ipynb",
      "provenance": [],
      "collapsed_sections": [],
      "toc_visible": true,
      "authorship_tag": "ABX9TyOhVntidgXVab5OMXXEVZs8"
    },
    "kernelspec": {
      "name": "python3",
      "display_name": "Python 3"
    },
    "language_info": {
      "name": "python"
    },
    "accelerator": "GPU"
  },
  "cells": [
    {
      "cell_type": "code",
      "metadata": {
        "colab": {
          "base_uri": "https://localhost:8080/"
        },
        "id": "Lxj8KRA5y1dc",
        "outputId": "8c91078f-ef9e-47e4-80f7-7e2637ede91d"
      },
      "source": [
        "from google.colab import drive\n",
        "drive.mount('/content/drive')"
      ],
      "execution_count": null,
      "outputs": [
        {
          "output_type": "stream",
          "name": "stdout",
          "text": [
            "Drive already mounted at /content/drive; to attempt to forcibly remount, call drive.mount(\"/content/drive\", force_remount=True).\n"
          ]
        }
      ]
    },
    {
      "cell_type": "markdown",
      "metadata": {
        "id": "sKNvEPfDHQFP"
      },
      "source": [
        "# Import Library"
      ]
    },
    {
      "cell_type": "code",
      "metadata": {
        "id": "nm1mUhawylWN",
        "colab": {
          "base_uri": "https://localhost:8080/"
        },
        "outputId": "89c19e04-4f14-405c-a865-abbbcd68a9ce"
      },
      "source": [
        "import numpy as np\n",
        "import pandas as pd\n",
        "import matplotlib.pyplot as plt\n",
        "import re\n",
        "import string\n",
        "import torch\n",
        "import torch.nn as nn\n",
        "import torch.nn.functional as F\n",
        "import torch.optim as optim\n",
        "import torchtext\n",
        "import nltk\n",
        "from nltk.corpus import stopwords\n",
        "nltk.download('stopwords')\n",
        "from nltk.stem.porter import PorterStemmer \n",
        "from sklearn.model_selection import train_test_split\n",
        "from nltk.tokenize import TweetTokenizer\n",
        "from sklearn.metrics import accuracy_score\n",
        "from sklearn.metrics import precision_score\n",
        "from sklearn.metrics import recall_score\n",
        "from sklearn.metrics import f1_score\n",
        "from sklearn.metrics import confusion_matrix"
      ],
      "execution_count": null,
      "outputs": [
        {
          "output_type": "stream",
          "name": "stdout",
          "text": [
            "[nltk_data] Downloading package stopwords to /root/nltk_data...\n",
            "[nltk_data]   Package stopwords is already up-to-date!\n"
          ]
        }
      ]
    },
    {
      "cell_type": "code",
      "metadata": {
        "id": "0f9_3XQ30Goq"
      },
      "source": [
        "# Device configuration\n",
        "device = torch.device('cuda' if torch.cuda.is_available() else 'cpu')"
      ],
      "execution_count": null,
      "outputs": []
    },
    {
      "cell_type": "code",
      "metadata": {
        "id": "58g3k1eV1xRR"
      },
      "source": [
        "# Hyper-parameters\n",
        "input_size = 50\n",
        "hidden_size = 100\n",
        "num_layers = 3\n",
        "num_classes = 2\n",
        "batch_size = 64\n",
        "num_epochs = 25\n",
        "learning_rate = 0.001"
      ],
      "execution_count": null,
      "outputs": []
    },
    {
      "cell_type": "markdown",
      "metadata": {
        "id": "qtsiAeLAt2Sm"
      },
      "source": [
        "# Confusion Matrix"
      ]
    },
    {
      "cell_type": "code",
      "metadata": {
        "id": "7Tqi81ASt9c1"
      },
      "source": [
        "def plot_confusion_matrix(cm, classes):\n",
        "  plt.imshow(cm, interpolation='nearest', cmap=plt.cm.Blues)\n",
        "  plt.title('Confusion matrix')\n",
        "  plt.colorbar()\n",
        "  tick_marks = np.arange(len(classes))\n",
        "  plt.xticks(tick_marks, classes, rotation=45)\n",
        "  plt.yticks(tick_marks, classes)\n",
        "\n",
        "  thresh = cm.max() / 2.\n",
        "  for i in range (cm.shape[0]):\n",
        "    for j in range (cm.shape[1]):\n",
        "      plt.text(j, i, cm[i, j], horizontalalignment=\"center\", color=\"white\" if cm[i, j] > thresh else \"black\")\n",
        "      plt.tight_layout()\n",
        "      plt.ylabel('True label')\n",
        "      plt.xlabel('Predicted label')"
      ],
      "execution_count": null,
      "outputs": []
    },
    {
      "cell_type": "markdown",
      "metadata": {
        "id": "E14NcmordddS"
      },
      "source": [
        "# Glove Load"
      ]
    },
    {
      "cell_type": "code",
      "metadata": {
        "id": "tDZ9OShvy2or"
      },
      "source": [
        "# The first time you run this will download a ~823MB file\n",
        "glove = torchtext.vocab.GloVe(name=\"6B\", dim=50, max_vectors=20000)"
      ],
      "execution_count": null,
      "outputs": []
    },
    {
      "cell_type": "markdown",
      "metadata": {
        "id": "S92I9GsJdgZY"
      },
      "source": [
        "# Read Dataframe"
      ]
    },
    {
      "cell_type": "code",
      "metadata": {
        "id": "TDI2TPSUy8PC"
      },
      "source": [
        "df = pd.read_csv('/content/drive/MyDrive/4.2/CSE 4238 - Soft Computing Lab/Assignment 3/Dataset 3.csv', encoding = \"ISO-8859-1\")"
      ],
      "execution_count": null,
      "outputs": []
    },
    {
      "cell_type": "markdown",
      "metadata": {
        "id": "Zq-oEFNCHoiJ"
      },
      "source": [
        "# Data Preprocessing"
      ]
    },
    {
      "cell_type": "code",
      "metadata": {
        "colab": {
          "base_uri": "https://localhost:8080/",
          "height": 419
        },
        "id": "eijoUxMLdfbM",
        "outputId": "8c260075-cb90-426a-8bca-dd10af0bc37c"
      },
      "source": [
        "stemmer = PorterStemmer()\n",
        "def datapreprocess(text):\n",
        "  stop = stopwords.words('english')\n",
        "  text = ' '.join([word for word in text.split() if word not in (stop)])\n",
        "  url_pattern = re.compile(r'https?://\\S+|www\\.\\S+')\n",
        "  text = url_pattern.sub(r'', text)\n",
        "  text = re.sub(r'@[\\S]+', ' ', text)\n",
        "  text = ''.join(c for c in text if not c.isdigit())\n",
        "  for punctuation in string.punctuation:\n",
        "    text = text.replace(punctuation, '') \n",
        "  text = text.lower()\n",
        "  text = \" \".join([stemmer.stem(word) for word in text.split()])\n",
        "  return text\n",
        "df['tweets'] = df['tweets'].apply(datapreprocess)\n",
        "df"
      ],
      "execution_count": null,
      "outputs": [
        {
          "output_type": "execute_result",
          "data": {
            "text/html": [
              "<div>\n",
              "<style scoped>\n",
              "    .dataframe tbody tr th:only-of-type {\n",
              "        vertical-align: middle;\n",
              "    }\n",
              "\n",
              "    .dataframe tbody tr th {\n",
              "        vertical-align: top;\n",
              "    }\n",
              "\n",
              "    .dataframe thead th {\n",
              "        text-align: right;\n",
              "    }\n",
              "</style>\n",
              "<table border=\"1\" class=\"dataframe\">\n",
              "  <thead>\n",
              "    <tr style=\"text-align: right;\">\n",
              "      <th></th>\n",
              "      <th>tweets</th>\n",
              "      <th>sentiment</th>\n",
              "    </tr>\n",
              "  </thead>\n",
              "  <tbody>\n",
              "    <tr>\n",
              "      <th>0</th>\n",
              "      <td>real good moment missssssssss much</td>\n",
              "      <td>0</td>\n",
              "    </tr>\n",
              "    <tr>\n",
              "      <th>1</th>\n",
              "      <td>read manga</td>\n",
              "      <td>0</td>\n",
              "    </tr>\n",
              "    <tr>\n",
              "      <th>2</th>\n",
              "      <td></td>\n",
              "      <td>0</td>\n",
              "    </tr>\n",
              "    <tr>\n",
              "      <th>3</th>\n",
              "      <td>need send em account tomorrow oddli i even ref...</td>\n",
              "      <td>0</td>\n",
              "    </tr>\n",
              "    <tr>\n",
              "      <th>4</th>\n",
              "      <td>add me on myspac myspacecomlookthund</td>\n",
              "      <td>0</td>\n",
              "    </tr>\n",
              "    <tr>\n",
              "      <th>...</th>\n",
              "      <td>...</td>\n",
              "      <td>...</td>\n",
              "    </tr>\n",
              "    <tr>\n",
              "      <th>10309</th>\n",
              "      <td>no depress g herbo mood on im done stress peop...</td>\n",
              "      <td>1</td>\n",
              "    </tr>\n",
              "    <tr>\n",
              "      <th>10310</th>\n",
              "      <td>what depress succumb brain make feel like neve...</td>\n",
              "      <td>1</td>\n",
              "    </tr>\n",
              "    <tr>\n",
              "      <th>10311</th>\n",
              "      <td>ketamin nasal spray show promis against depres...</td>\n",
              "      <td>1</td>\n",
              "    </tr>\n",
              "    <tr>\n",
              "      <th>10312</th>\n",
              "      <td>dont mistak bad day depress everyon em</td>\n",
              "      <td>1</td>\n",
              "    </tr>\n",
              "    <tr>\n",
              "      <th>10313</th>\n",
              "      <td></td>\n",
              "      <td>1</td>\n",
              "    </tr>\n",
              "  </tbody>\n",
              "</table>\n",
              "<p>10314 rows × 2 columns</p>\n",
              "</div>"
            ],
            "text/plain": [
              "                                                  tweets  sentiment\n",
              "0                     real good moment missssssssss much          0\n",
              "1                                             read manga          0\n",
              "2                                                                 0\n",
              "3      need send em account tomorrow oddli i even ref...          0\n",
              "4                   add me on myspac myspacecomlookthund          0\n",
              "...                                                  ...        ...\n",
              "10309  no depress g herbo mood on im done stress peop...          1\n",
              "10310  what depress succumb brain make feel like neve...          1\n",
              "10311  ketamin nasal spray show promis against depres...          1\n",
              "10312             dont mistak bad day depress everyon em          1\n",
              "10313                                                             1\n",
              "\n",
              "[10314 rows x 2 columns]"
            ]
          },
          "metadata": {},
          "execution_count": 8
        }
      ]
    },
    {
      "cell_type": "markdown",
      "metadata": {
        "id": "qx-_21s9Iajw"
      },
      "source": [
        "# Empty Row Remove"
      ]
    },
    {
      "cell_type": "code",
      "metadata": {
        "id": "b17K-iMYEiwV"
      },
      "source": [
        "df['tweets'].replace('', np.nan, inplace=True)"
      ],
      "execution_count": null,
      "outputs": []
    },
    {
      "cell_type": "code",
      "metadata": {
        "colab": {
          "base_uri": "https://localhost:8080/",
          "height": 419
        },
        "id": "DPDTTEk9ElLy",
        "outputId": "d6f84fa6-b021-4570-96de-4c07cb8c1f2a"
      },
      "source": [
        "df"
      ],
      "execution_count": null,
      "outputs": [
        {
          "output_type": "execute_result",
          "data": {
            "text/html": [
              "<div>\n",
              "<style scoped>\n",
              "    .dataframe tbody tr th:only-of-type {\n",
              "        vertical-align: middle;\n",
              "    }\n",
              "\n",
              "    .dataframe tbody tr th {\n",
              "        vertical-align: top;\n",
              "    }\n",
              "\n",
              "    .dataframe thead th {\n",
              "        text-align: right;\n",
              "    }\n",
              "</style>\n",
              "<table border=\"1\" class=\"dataframe\">\n",
              "  <thead>\n",
              "    <tr style=\"text-align: right;\">\n",
              "      <th></th>\n",
              "      <th>tweets</th>\n",
              "      <th>sentiment</th>\n",
              "    </tr>\n",
              "  </thead>\n",
              "  <tbody>\n",
              "    <tr>\n",
              "      <th>0</th>\n",
              "      <td>real good moment missssssssss much</td>\n",
              "      <td>0</td>\n",
              "    </tr>\n",
              "    <tr>\n",
              "      <th>1</th>\n",
              "      <td>read manga</td>\n",
              "      <td>0</td>\n",
              "    </tr>\n",
              "    <tr>\n",
              "      <th>2</th>\n",
              "      <td>NaN</td>\n",
              "      <td>0</td>\n",
              "    </tr>\n",
              "    <tr>\n",
              "      <th>3</th>\n",
              "      <td>need send em account tomorrow oddli i even ref...</td>\n",
              "      <td>0</td>\n",
              "    </tr>\n",
              "    <tr>\n",
              "      <th>4</th>\n",
              "      <td>add me on myspac myspacecomlookthund</td>\n",
              "      <td>0</td>\n",
              "    </tr>\n",
              "    <tr>\n",
              "      <th>...</th>\n",
              "      <td>...</td>\n",
              "      <td>...</td>\n",
              "    </tr>\n",
              "    <tr>\n",
              "      <th>10309</th>\n",
              "      <td>no depress g herbo mood on im done stress peop...</td>\n",
              "      <td>1</td>\n",
              "    </tr>\n",
              "    <tr>\n",
              "      <th>10310</th>\n",
              "      <td>what depress succumb brain make feel like neve...</td>\n",
              "      <td>1</td>\n",
              "    </tr>\n",
              "    <tr>\n",
              "      <th>10311</th>\n",
              "      <td>ketamin nasal spray show promis against depres...</td>\n",
              "      <td>1</td>\n",
              "    </tr>\n",
              "    <tr>\n",
              "      <th>10312</th>\n",
              "      <td>dont mistak bad day depress everyon em</td>\n",
              "      <td>1</td>\n",
              "    </tr>\n",
              "    <tr>\n",
              "      <th>10313</th>\n",
              "      <td>NaN</td>\n",
              "      <td>1</td>\n",
              "    </tr>\n",
              "  </tbody>\n",
              "</table>\n",
              "<p>10314 rows × 2 columns</p>\n",
              "</div>"
            ],
            "text/plain": [
              "                                                  tweets  sentiment\n",
              "0                     real good moment missssssssss much          0\n",
              "1                                             read manga          0\n",
              "2                                                    NaN          0\n",
              "3      need send em account tomorrow oddli i even ref...          0\n",
              "4                   add me on myspac myspacecomlookthund          0\n",
              "...                                                  ...        ...\n",
              "10309  no depress g herbo mood on im done stress peop...          1\n",
              "10310  what depress succumb brain make feel like neve...          1\n",
              "10311  ketamin nasal spray show promis against depres...          1\n",
              "10312             dont mistak bad day depress everyon em          1\n",
              "10313                                                NaN          1\n",
              "\n",
              "[10314 rows x 2 columns]"
            ]
          },
          "metadata": {},
          "execution_count": 10
        }
      ]
    },
    {
      "cell_type": "code",
      "metadata": {
        "id": "CYLwgsibFitE"
      },
      "source": [
        "df.dropna(subset=['tweets'], inplace=True)"
      ],
      "execution_count": null,
      "outputs": []
    },
    {
      "cell_type": "code",
      "metadata": {
        "colab": {
          "base_uri": "https://localhost:8080/",
          "height": 419
        },
        "id": "yymJMu83FksD",
        "outputId": "6873a27a-b5b4-467a-a8e7-65bd50a441b5"
      },
      "source": [
        "df"
      ],
      "execution_count": null,
      "outputs": [
        {
          "output_type": "execute_result",
          "data": {
            "text/html": [
              "<div>\n",
              "<style scoped>\n",
              "    .dataframe tbody tr th:only-of-type {\n",
              "        vertical-align: middle;\n",
              "    }\n",
              "\n",
              "    .dataframe tbody tr th {\n",
              "        vertical-align: top;\n",
              "    }\n",
              "\n",
              "    .dataframe thead th {\n",
              "        text-align: right;\n",
              "    }\n",
              "</style>\n",
              "<table border=\"1\" class=\"dataframe\">\n",
              "  <thead>\n",
              "    <tr style=\"text-align: right;\">\n",
              "      <th></th>\n",
              "      <th>tweets</th>\n",
              "      <th>sentiment</th>\n",
              "    </tr>\n",
              "  </thead>\n",
              "  <tbody>\n",
              "    <tr>\n",
              "      <th>0</th>\n",
              "      <td>real good moment missssssssss much</td>\n",
              "      <td>0</td>\n",
              "    </tr>\n",
              "    <tr>\n",
              "      <th>1</th>\n",
              "      <td>read manga</td>\n",
              "      <td>0</td>\n",
              "    </tr>\n",
              "    <tr>\n",
              "      <th>3</th>\n",
              "      <td>need send em account tomorrow oddli i even ref...</td>\n",
              "      <td>0</td>\n",
              "    </tr>\n",
              "    <tr>\n",
              "      <th>4</th>\n",
              "      <td>add me on myspac myspacecomlookthund</td>\n",
              "      <td>0</td>\n",
              "    </tr>\n",
              "    <tr>\n",
              "      <th>5</th>\n",
              "      <td>sleepi good time tonight though</td>\n",
              "      <td>0</td>\n",
              "    </tr>\n",
              "    <tr>\n",
              "      <th>...</th>\n",
              "      <td>...</td>\n",
              "      <td>...</td>\n",
              "    </tr>\n",
              "    <tr>\n",
              "      <th>10308</th>\n",
              "      <td>mani suffer depress sad feel noth all persist ...</td>\n",
              "      <td>1</td>\n",
              "    </tr>\n",
              "    <tr>\n",
              "      <th>10309</th>\n",
              "      <td>no depress g herbo mood on im done stress peop...</td>\n",
              "      <td>1</td>\n",
              "    </tr>\n",
              "    <tr>\n",
              "      <th>10310</th>\n",
              "      <td>what depress succumb brain make feel like neve...</td>\n",
              "      <td>1</td>\n",
              "    </tr>\n",
              "    <tr>\n",
              "      <th>10311</th>\n",
              "      <td>ketamin nasal spray show promis against depres...</td>\n",
              "      <td>1</td>\n",
              "    </tr>\n",
              "    <tr>\n",
              "      <th>10312</th>\n",
              "      <td>dont mistak bad day depress everyon em</td>\n",
              "      <td>1</td>\n",
              "    </tr>\n",
              "  </tbody>\n",
              "</table>\n",
              "<p>10286 rows × 2 columns</p>\n",
              "</div>"
            ],
            "text/plain": [
              "                                                  tweets  sentiment\n",
              "0                     real good moment missssssssss much          0\n",
              "1                                             read manga          0\n",
              "3      need send em account tomorrow oddli i even ref...          0\n",
              "4                   add me on myspac myspacecomlookthund          0\n",
              "5                        sleepi good time tonight though          0\n",
              "...                                                  ...        ...\n",
              "10308  mani suffer depress sad feel noth all persist ...          1\n",
              "10309  no depress g herbo mood on im done stress peop...          1\n",
              "10310  what depress succumb brain make feel like neve...          1\n",
              "10311  ketamin nasal spray show promis against depres...          1\n",
              "10312             dont mistak bad day depress everyon em          1\n",
              "\n",
              "[10286 rows x 2 columns]"
            ]
          },
          "metadata": {},
          "execution_count": 12
        }
      ]
    },
    {
      "cell_type": "markdown",
      "metadata": {
        "id": "2sqJEwc6Ihsj"
      },
      "source": [
        "# Tokenize Tweet"
      ]
    },
    {
      "cell_type": "code",
      "metadata": {
        "id": "6H_6mL0azeeM"
      },
      "source": [
        "tknzr = TweetTokenizer(strip_handles=True)\n",
        "def tweet_tokenizer(text):\n",
        "  return tknzr.tokenize(text)\n",
        "df['tweets'] = df['tweets'].apply(tweet_tokenizer)"
      ],
      "execution_count": null,
      "outputs": []
    },
    {
      "cell_type": "code",
      "metadata": {
        "colab": {
          "base_uri": "https://localhost:8080/",
          "height": 419
        },
        "id": "nWAPsx20sO7F",
        "outputId": "6b2a47d0-19aa-42fa-f010-98dae8e71855"
      },
      "source": [
        "df"
      ],
      "execution_count": null,
      "outputs": [
        {
          "output_type": "execute_result",
          "data": {
            "text/html": [
              "<div>\n",
              "<style scoped>\n",
              "    .dataframe tbody tr th:only-of-type {\n",
              "        vertical-align: middle;\n",
              "    }\n",
              "\n",
              "    .dataframe tbody tr th {\n",
              "        vertical-align: top;\n",
              "    }\n",
              "\n",
              "    .dataframe thead th {\n",
              "        text-align: right;\n",
              "    }\n",
              "</style>\n",
              "<table border=\"1\" class=\"dataframe\">\n",
              "  <thead>\n",
              "    <tr style=\"text-align: right;\">\n",
              "      <th></th>\n",
              "      <th>tweets</th>\n",
              "      <th>sentiment</th>\n",
              "    </tr>\n",
              "  </thead>\n",
              "  <tbody>\n",
              "    <tr>\n",
              "      <th>0</th>\n",
              "      <td>[real, good, moment, missssssssss, much]</td>\n",
              "      <td>0</td>\n",
              "    </tr>\n",
              "    <tr>\n",
              "      <th>1</th>\n",
              "      <td>[read, manga]</td>\n",
              "      <td>0</td>\n",
              "    </tr>\n",
              "    <tr>\n",
              "      <th>3</th>\n",
              "      <td>[need, send, em, account, tomorrow, oddli, i, ...</td>\n",
              "      <td>0</td>\n",
              "    </tr>\n",
              "    <tr>\n",
              "      <th>4</th>\n",
              "      <td>[add, me, on, myspac, myspacecomlookthund]</td>\n",
              "      <td>0</td>\n",
              "    </tr>\n",
              "    <tr>\n",
              "      <th>5</th>\n",
              "      <td>[sleepi, good, time, tonight, though]</td>\n",
              "      <td>0</td>\n",
              "    </tr>\n",
              "    <tr>\n",
              "      <th>...</th>\n",
              "      <td>...</td>\n",
              "      <td>...</td>\n",
              "    </tr>\n",
              "    <tr>\n",
              "      <th>10308</th>\n",
              "      <td>[mani, suffer, depress, sad, feel, noth, all, ...</td>\n",
              "      <td>1</td>\n",
              "    </tr>\n",
              "    <tr>\n",
              "      <th>10309</th>\n",
              "      <td>[no, depress, g, herbo, mood, on, im, done, st...</td>\n",
              "      <td>1</td>\n",
              "    </tr>\n",
              "    <tr>\n",
              "      <th>10310</th>\n",
              "      <td>[what, depress, succumb, brain, make, feel, li...</td>\n",
              "      <td>1</td>\n",
              "    </tr>\n",
              "    <tr>\n",
              "      <th>10311</th>\n",
              "      <td>[ketamin, nasal, spray, show, promis, against,...</td>\n",
              "      <td>1</td>\n",
              "    </tr>\n",
              "    <tr>\n",
              "      <th>10312</th>\n",
              "      <td>[dont, mistak, bad, day, depress, everyon, em]</td>\n",
              "      <td>1</td>\n",
              "    </tr>\n",
              "  </tbody>\n",
              "</table>\n",
              "<p>10286 rows × 2 columns</p>\n",
              "</div>"
            ],
            "text/plain": [
              "                                                  tweets  sentiment\n",
              "0               [real, good, moment, missssssssss, much]          0\n",
              "1                                          [read, manga]          0\n",
              "3      [need, send, em, account, tomorrow, oddli, i, ...          0\n",
              "4             [add, me, on, myspac, myspacecomlookthund]          0\n",
              "5                  [sleepi, good, time, tonight, though]          0\n",
              "...                                                  ...        ...\n",
              "10308  [mani, suffer, depress, sad, feel, noth, all, ...          1\n",
              "10309  [no, depress, g, herbo, mood, on, im, done, st...          1\n",
              "10310  [what, depress, succumb, brain, make, feel, li...          1\n",
              "10311  [ketamin, nasal, spray, show, promis, against,...          1\n",
              "10312     [dont, mistak, bad, day, depress, everyon, em]          1\n",
              "\n",
              "[10286 rows x 2 columns]"
            ]
          },
          "metadata": {},
          "execution_count": 14
        }
      ]
    },
    {
      "cell_type": "markdown",
      "metadata": {
        "id": "SE3-V2Q9ImZI"
      },
      "source": [
        "# Train Test Split"
      ]
    },
    {
      "cell_type": "code",
      "metadata": {
        "id": "akUAEpLp6kFL"
      },
      "source": [
        "train, test = train_test_split(df,test_size=0.2, random_state=42)\n",
        "train, valid = train_test_split(train,test_size=0.2, random_state=42)"
      ],
      "execution_count": null,
      "outputs": []
    },
    {
      "cell_type": "markdown",
      "metadata": {
        "id": "OlfXnq1qJFok"
      },
      "source": [
        "# Making Loader"
      ]
    },
    {
      "cell_type": "code",
      "metadata": {
        "id": "UCEJKd_f6vcS"
      },
      "source": [
        "def get_tweet_vectors(dataframe):\n",
        "  vectorList = []\n",
        "  for index, row in dataframe.iterrows():\n",
        "    tweet = row['tweets']\n",
        "    vector_sum = sum(glove[w] for w in tweet)\n",
        "    label = row['sentiment']\n",
        "    vectorList.append((vector_sum, label))\n",
        "  return vectorList"
      ],
      "execution_count": null,
      "outputs": []
    },
    {
      "cell_type": "code",
      "metadata": {
        "id": "heGf96gO65ba"
      },
      "source": [
        "train = get_tweet_vectors(train)\n",
        "test = get_tweet_vectors(test)\n",
        "valid = get_tweet_vectors(valid)\n",
        "\n",
        "train_loader = torch.utils.data.DataLoader(train, batch_size=batch_size, shuffle=True)\n",
        "valid_loader = torch.utils.data.DataLoader(valid, batch_size=batch_size, shuffle=False)\n",
        "test_loader = torch.utils.data.DataLoader(test, batch_size=batch_size, shuffle=False)"
      ],
      "execution_count": null,
      "outputs": []
    },
    {
      "cell_type": "markdown",
      "metadata": {
        "id": "QJtajm3IAfm8"
      },
      "source": [
        "# Three Recurrent Layer RNN"
      ]
    },
    {
      "cell_type": "markdown",
      "metadata": {
        "id": "nRm3MYkW8QVU"
      },
      "source": [
        "### Step #1 : Design model using class"
      ]
    },
    {
      "cell_type": "code",
      "metadata": {
        "id": "t2lVMJyH1zig"
      },
      "source": [
        "#credit : https://github.com/yunjey/pytorch-tutorial/\n",
        "\n",
        "class RNN(nn.Module):\n",
        "    def __init__(self, input_size, hidden_size, num_layers, num_classes):\n",
        "        super(RNN, self).__init__()\n",
        "        self.hidden_size = hidden_size\n",
        "        self.num_layers = num_layers\n",
        "        self.rnn = nn.RNN(input_size, hidden_size, num_layers, batch_first=True)\n",
        "        self.fc = nn.Linear(hidden_size, num_classes)\n",
        "    \n",
        "    def forward(self, x):\n",
        "        # Set initial hidden state\n",
        "        h0 = torch.zeros(self.num_layers, x.size(0), self.hidden_size).to(device) \n",
        "        \n",
        "        # Forward propagate RNN\n",
        "        out, _ = self.rnn(x, h0)  # out: tensor of shape (batch_size, seq_length)\n",
        "        \n",
        "        # Decode the hidden state of the last time step\n",
        "        out = self.fc(out[:, -1, :])\n",
        "        return out"
      ],
      "execution_count": null,
      "outputs": []
    },
    {
      "cell_type": "code",
      "metadata": {
        "id": "nd6zkeNOK8tE",
        "colab": {
          "base_uri": "https://localhost:8080/"
        },
        "outputId": "62db676a-2aa4-4a6f-ed42-a0c1d27b8d28"
      },
      "source": [
        "'''\n",
        "INSTANTIATE MODEL CLASS\n",
        "'''\n",
        "model = RNN(input_size, hidden_size, num_layers, num_classes)\n",
        "\n",
        "# To enable GPU\n",
        "model.to(device)"
      ],
      "execution_count": null,
      "outputs": [
        {
          "output_type": "execute_result",
          "data": {
            "text/plain": [
              "RNN(\n",
              "  (rnn): RNN(50, 100, num_layers=3, batch_first=True)\n",
              "  (fc): Linear(in_features=100, out_features=2, bias=True)\n",
              ")"
            ]
          },
          "metadata": {},
          "execution_count": 19
        }
      ]
    },
    {
      "cell_type": "markdown",
      "metadata": {
        "id": "pdrDJPOKzdSp"
      },
      "source": [
        "### Step #2 : Construct loss and optimizer\n",
        "\n",
        "Unlike linear regression, we do not use MSE here, we need Cross Entropy Loss to calculate our loss before we backpropagate and update our parameters.\n",
        "\n",
        "`criterion = nn.CrossEntropyLoss() ` \n",
        "\n",
        "It does 2 things at the same time.\n",
        "\n",
        "1. Computes softmax ([Logistic or Sigmoid]/softmax function)\n",
        "2. Computes Cross Entropy Loss"
      ]
    },
    {
      "cell_type": "code",
      "metadata": {
        "id": "47bW4dJQLHNV"
      },
      "source": [
        "# Loss and optimizer\n",
        "criterion = nn.CrossEntropyLoss()\n",
        "optimizer = torch.optim.Adam(model.parameters(), lr=learning_rate)"
      ],
      "execution_count": null,
      "outputs": []
    },
    {
      "cell_type": "markdown",
      "metadata": {
        "id": "I2Hb_JQ6AUok"
      },
      "source": [
        "### Step #3 : Training: forward, loss, backward, step"
      ]
    },
    {
      "cell_type": "code",
      "metadata": {
        "colab": {
          "base_uri": "https://localhost:8080/"
        },
        "id": "5_c9xREMCWK4",
        "outputId": "d08fa6c2-e189-44ec-aa56-ad29fbd2567c"
      },
      "source": [
        "iteration_loss = []\n",
        "for epoch in range(num_epochs):\n",
        "  for i, (tweets, labels) in enumerate(train_loader):\n",
        "    tweets = tweets.unsqueeze(-2).to(device)\n",
        "    labels = labels.to(device)\n",
        "    model.zero_grad()\n",
        "    output = model(tweets)\n",
        "    loss = criterion(output, labels)\n",
        "    loss.backward()\n",
        "    optimizer.step()\n",
        "  if epoch % 5 == 4:\n",
        "    # For Testing Data\n",
        "    # Calculate Accuracy         \n",
        "    correct = 0\n",
        "    total = 0\n",
        "    # Iterate through dataset\n",
        "    for i, (tweets, labels) in enumerate(test_loader):\n",
        "      tweets = tweets.unsqueeze(-2).to(device)\n",
        "\n",
        "      # Forward pass only to get logits/output\n",
        "      output = model(tweets)\n",
        "\n",
        "      # Get predictions from the maximum value\n",
        "      _, predicted = torch.max(output, 1)\n",
        "\n",
        "      # Total number of labels\n",
        "      total += labels.size(0)\n",
        "\n",
        "      # Total correct predictions\n",
        "      if torch.cuda.is_available():\n",
        "        correct += (predicted.cpu() == labels.cpu()).sum() \n",
        "      else:\n",
        "        correct += (predicted == labels).sum()\n",
        "\n",
        "    iteration_loss.append(loss.item())\n",
        "    test_accuracy = 100 * correct.item() / total\n",
        "    # For Validating Data\n",
        "    # Calculate Accuracy         \n",
        "    correct = 0\n",
        "    total = 0\n",
        "    # Iterate through dataset\n",
        "    for i, (tweets, labels) in enumerate(valid_loader):\n",
        "      tweets = tweets.unsqueeze(-2).to(device)\n",
        "\n",
        "      # Forward pass only to get logits/output\n",
        "      output = model(tweets)\n",
        "\n",
        "      # Get predictions from the maximum value\n",
        "      _, predicted = torch.max(output, 1)\n",
        "\n",
        "      # Total number of labels\n",
        "      total += labels.size(0)\n",
        "\n",
        "      # Total correct predictions\n",
        "      if torch.cuda.is_available():\n",
        "        correct += (predicted.cpu() == labels.cpu()).sum() \n",
        "      else:\n",
        "        correct += (predicted == labels).sum()\n",
        "\n",
        "    validation_accuracy = 100 * correct.item() / total\n",
        "    # Print Loss\n",
        "    print('Epoch: {}. Loss: {}. Testing Accuracy: {}. Validation Accuracy: {}'.format(epoch+1, iteration_loss[-1], test_accuracy, validation_accuracy))"
      ],
      "execution_count": null,
      "outputs": [
        {
          "output_type": "stream",
          "name": "stdout",
          "text": [
            "Epoch: 5. Loss: 0.42221856117248535. Testing Accuracy: 86.15160349854227. Validation Accuracy: 85.78371810449575\n",
            "Epoch: 10. Loss: 0.3788461983203888. Testing Accuracy: 84.93683187560738. Validation Accuracy: 85.29769137302551\n",
            "Epoch: 15. Loss: 0.28818652033805847. Testing Accuracy: 86.78328474246841. Validation Accuracy: 86.57351154313487\n",
            "Epoch: 20. Loss: 0.3524549901485443. Testing Accuracy: 85.71428571428571. Validation Accuracy: 85.54070473876064\n",
            "Epoch: 25. Loss: 0.4179180860519409. Testing Accuracy: 85.8600583090379. Validation Accuracy: 85.54070473876064\n"
          ]
        }
      ]
    },
    {
      "cell_type": "markdown",
      "metadata": {
        "id": "-14ApMZYIard"
      },
      "source": [
        "### Iteration Vs Loss"
      ]
    },
    {
      "cell_type": "code",
      "metadata": {
        "id": "Qak7Ri0SrgoA",
        "colab": {
          "base_uri": "https://localhost:8080/",
          "height": 295
        },
        "outputId": "a24d7d94-7e09-4f40-ec0a-f3cca9b1ad91"
      },
      "source": [
        "plt.title(\"Loss vs Iteration\")\n",
        "plt.plot(iteration_loss)\n",
        "plt.ylabel('Cross Entropy Loss')\n",
        "plt.xlabel('Iteration (in every 5)')\n",
        "plt.show()"
      ],
      "execution_count": null,
      "outputs": [
        {
          "output_type": "display_data",
          "data": {
            "image/png": "[encoded data removed]",
            "text/plain": [
              "<Figure size 432x288 with 1 Axes>"
            ]
          },
          "metadata": {
            "needs_background": "light"
          }
        }
      ]
    },
    {
      "cell_type": "code",
      "metadata": {
        "id": "V8kVyAzOjsAr"
      },
      "source": [
        "def get_all_prediction(loader):\n",
        "  predictions_list = torch.tensor([], dtype=torch.int32)\n",
        "  labels_list = torch.tensor([], dtype=torch.int32)\n",
        "  for i, (tweets, labels) in enumerate(loader):\n",
        "    tweets = tweets.unsqueeze(-2).to(device)\n",
        "\n",
        "    # Forward pass only to get logits/output\n",
        "    outputs = model(tweets)\n",
        "\n",
        "    # Get predictions from the maximum value\n",
        "    _, predictions = torch.max(outputs, 1)\n",
        "    predictions_list = torch.cat((predictions_list, predictions.cpu()), dim = 0)\n",
        "    labels_list = torch.cat((labels_list.cpu(), labels.cpu()), dim = 0).to(device)\n",
        "  return predictions_list, labels_list.cpu()"
      ],
      "execution_count": null,
      "outputs": []
    },
    {
      "cell_type": "code",
      "metadata": {
        "colab": {
          "base_uri": "https://localhost:8080/",
          "height": 365
        },
        "id": "-m_45e6oQs6m",
        "outputId": "984d879e-3019-46bc-d745-8c7b986b875c"
      },
      "source": [
        "y_pred, y_true = get_all_prediction(test_loader)\n",
        "print('Accuracy: ' +str(round(accuracy_score(y_true, y_pred) * 100, 4)))\n",
        "print('Precision: ' +str(round(precision_score(y_true, y_pred, average='micro') * 100, 4)))\n",
        "print('Recall: ' +str(round(recall_score(y_true, y_pred, average='micro') * 100, 4)))\n",
        "print('F1 score: ' +str(round(f1_score(y_true, y_pred, average='micro')  * 100, 4)))\n",
        "confusion_mtx = confusion_matrix(y_true, y_pred)\n",
        "plot_confusion_matrix(confusion_mtx, classes = range(2))"
      ],
      "execution_count": null,
      "outputs": [
        {
          "output_type": "stream",
          "name": "stdout",
          "text": [
            "Accuracy: 85.8601\n",
            "Precision: 85.8601\n",
            "Recall: 85.8601\n",
            "F1 score: 85.8601\n"
          ]
        },
        {
          "output_type": "display_data",
          "data": {
            "image/png": "[encoded data removed]",
            "text/plain": [
              "<Figure size 432x288 with 2 Axes>"
            ]
          },
          "metadata": {
            "needs_background": "light"
          }
        }
      ]
    },
    {
      "cell_type": "markdown",
      "metadata": {
        "id": "fABdi2jbhHN-"
      },
      "source": [
        "# Prediction"
      ]
    },
    {
      "cell_type": "code",
      "metadata": {
        "id": "7uzrzWoA1430"
      },
      "source": [
        "def predict_sentiment(tweet):\n",
        "  tweet = datapreprocess(tweet)\n",
        "  tweet = sum(glove[w] for w in tweet)\n",
        "  tweet = tweet.reshape(1, 1, 50).to(device)\n",
        "  output = model(tweet)\n",
        "  _, predicted = torch.max(output, 1)\n",
        "  if predicted > 0.5:\n",
        "    print('Positive sentiment')\n",
        "  else:\n",
        "    print('Negative sentiment')"
      ],
      "execution_count": null,
      "outputs": []
    },
    {
      "cell_type": "code",
      "metadata": {
        "colab": {
          "base_uri": "https://localhost:8080/"
        },
        "id": "8715ZrZd293v",
        "outputId": "73edd493-16da-4edf-e5c0-4161298e9bc1"
      },
      "source": [
        "test_text = input()\n",
        "predict_sentiment(test_text)"
      ],
      "execution_count": null,
      "outputs": [
        {
          "output_type": "stream",
          "name": "stdout",
          "text": [
            "He has sad eyes, like me.\n",
            "Negative sentiment\n"
          ]
        }
      ]
    }
  ]
}